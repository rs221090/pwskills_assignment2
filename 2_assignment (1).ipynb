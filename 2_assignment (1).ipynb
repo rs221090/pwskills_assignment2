{
 "cells": [
  {
   "cell_type": "markdown",
   "id": "d43b6f97-8942-4bfc-992a-ae3a1eff9f21",
   "metadata": {},
   "source": [
    "Q1. Which keyword is used to create a function? Create a function to return a list of odd numbers in the\n",
    "range of 1 to 25.\n",
    "Q2. Why *args and **kwargs is used in some functions? Create a function each for *args and **kwargs\n",
    "to demonstrate their use.\n",
    "Q3. What is an iterator in python? Name the method used to initialise the iterator object and the method\n",
    "used for iteration. Use these methods to print the first five elements of the given list [2, 4, 6, 8, 10, 12, 14,\n",
    "16, 18, 20].\n",
    "Q4. What is a generator function in python? Why yield keyword is used? Give an example of a generator\n",
    "function.\n",
    "Q5. Create a generator function for prime numbers less than 1000. Use the next() method to print the\n",
    "first 20 prime numbers.\n",
    "Q6. Write a python program to print the first 10 Fibonacci numbers using a while loop.\n",
    "Q7. Write a List Comprehension to iterate through the given string: ‘pwskills’.\n",
    "Expected output: ['p', 'w', 's', 'k', 'i', 'l', 'l', 's']\n",
    "Q8. Write a python program to check whether a given number is Palindrome or not using a while loop.\n",
    "Q9. Write a code to print odd numbers from 1 to 100 using list comprehension.\n",
    "Note: Use a list comprehension to create a list from 1 to 100 and use another List comprehension to filter\n",
    "out odd numbers.\n",
    "\n",
    "Note: Create your assignment in Jupyter notebook and upload it to GitHub & share that GitHub repository"
   ]
  },
  {
   "cell_type": "markdown",
   "id": "8839d441-586a-4a04-a404-8d4834c0a7a9",
   "metadata": {},
   "source": [
    "Q1. Which keyword is used to create a function? Create a function to return a list of odd numbers in the range of 1 to 25. "
   ]
  },
  {
   "cell_type": "markdown",
   "id": "0928c9e5-43a8-4dba-886a-8b48044c7757",
   "metadata": {},
   "source": [
    "Solution 1 : \"def\" keyword is used to create a function"
   ]
  },
  {
   "cell_type": "code",
   "execution_count": 1,
   "id": "65c7b3ec-b8ad-48fc-bebf-5fedfc3248c2",
   "metadata": {},
   "outputs": [],
   "source": [
    "def odd():\n",
    "    \"\"\"return a list of odd numbers between 1 to 25\"\"\"\n",
    "    return list(range(1,26,2))"
   ]
  },
  {
   "cell_type": "code",
   "execution_count": 2,
   "id": "6e997286-54d5-4490-9956-2395a53b7acd",
   "metadata": {},
   "outputs": [
    {
     "data": {
      "text/plain": [
       "[1, 3, 5, 7, 9, 11, 13, 15, 17, 19, 21, 23, 25]"
      ]
     },
     "execution_count": 2,
     "metadata": {},
     "output_type": "execute_result"
    }
   ],
   "source": [
    "odd()"
   ]
  },
  {
   "cell_type": "markdown",
   "id": "446c932b-3163-4828-91db-7d683271df65",
   "metadata": {},
   "source": [
    "Q2. Why *args and **kwargs is used in some functions? Create a function each for *args and **kwargs to demonstrate their use. "
   ]
  },
  {
   "cell_type": "markdown",
   "id": "a28d3dcf-1caa-4e35-83c4-49fd3c04b64c",
   "metadata": {},
   "source": [
    "Solution 2: *args is used to pass multiple arguments to a function\n",
    "            *kwargs is also used as *args the only differnce is it uses key value pair and return in the form of a dictionary"
   ]
  },
  {
   "cell_type": "code",
   "execution_count": 3,
   "id": "eecc1ace-e379-469d-bc9e-bb8ba0fe931c",
   "metadata": {},
   "outputs": [
    {
     "data": {
      "text/plain": [
       "31"
      ]
     },
     "execution_count": 3,
     "metadata": {},
     "output_type": "execute_result"
    }
   ],
   "source": [
    "#example of *args\n",
    "def add(*args):\n",
    "    \"\"\"adding all the input elements\"\"\"\n",
    "    return sum(args)\n",
    "add(1,2,3,4,6,9,6)"
   ]
  },
  {
   "cell_type": "code",
   "execution_count": 4,
   "id": "0cc6119e-626d-41ef-95fb-818fe017f13d",
   "metadata": {},
   "outputs": [
    {
     "data": {
      "text/plain": [
       "dict_values([2, 65, 89, 45])"
      ]
     },
     "execution_count": 4,
     "metadata": {},
     "output_type": "execute_result"
    }
   ],
   "source": [
    "#example of *kwargs\n",
    "def dictionary(**kwargs):\n",
    "    \"\"\"input key value pair and return only values\"\"\"\n",
    "    return kwargs.values()\n",
    "dictionary(a = 2,b = 65,c =89, d = 45)"
   ]
  },
  {
   "cell_type": "markdown",
   "id": "16bf8b80-c475-4690-8dec-115332dbc643",
   "metadata": {},
   "source": [
    "Q3. What is an iterator in python? Name the method used to initialise the iterator object and the method used for iteration. Use these methods to print the first five elements of the given list [2, 4, 6, 8, 10, 12, 14, 16, 18, 20].\n",
    "\n",
    "Solution 3 Iterator is an object which allow us to iterate over iterable data such as list,tuple,dictionaries and set iter() is used to initialise the iterator object"
   ]
  },
  {
   "cell_type": "code",
   "execution_count": 5,
   "id": "b5b0e736-be04-4528-b68e-6e4385ad445d",
   "metadata": {},
   "outputs": [
    {
     "data": {
      "text/plain": [
       "2"
      ]
     },
     "execution_count": 5,
     "metadata": {},
     "output_type": "execute_result"
    }
   ],
   "source": [
    "lst =iter([2, 4, 6, 8, 10, 12, 14, 16, 18, 20])\n",
    "next(lst)"
   ]
  },
  {
   "cell_type": "code",
   "execution_count": 6,
   "id": "eed16e1d-a07c-4efa-8793-fa67ec1f98a2",
   "metadata": {},
   "outputs": [
    {
     "data": {
      "text/plain": [
       "4"
      ]
     },
     "execution_count": 6,
     "metadata": {},
     "output_type": "execute_result"
    }
   ],
   "source": [
    "next(lst)"
   ]
  },
  {
   "cell_type": "code",
   "execution_count": 7,
   "id": "cd3901b0-0b9f-4d18-9dce-50668f3745ac",
   "metadata": {},
   "outputs": [
    {
     "data": {
      "text/plain": [
       "6"
      ]
     },
     "execution_count": 7,
     "metadata": {},
     "output_type": "execute_result"
    }
   ],
   "source": [
    "next(lst)"
   ]
  },
  {
   "cell_type": "code",
   "execution_count": 8,
   "id": "a9a09e41-71bc-4e2d-80be-7ff50c2feb11",
   "metadata": {},
   "outputs": [
    {
     "data": {
      "text/plain": [
       "8"
      ]
     },
     "execution_count": 8,
     "metadata": {},
     "output_type": "execute_result"
    }
   ],
   "source": [
    "next(lst)"
   ]
  },
  {
   "cell_type": "code",
   "execution_count": 9,
   "id": "9b4bb24d-88e1-4137-a3b7-fdac174d9391",
   "metadata": {},
   "outputs": [
    {
     "data": {
      "text/plain": [
       "10"
      ]
     },
     "execution_count": 9,
     "metadata": {},
     "output_type": "execute_result"
    }
   ],
   "source": [
    "next(lst)"
   ]
  },
  {
   "cell_type": "markdown",
   "id": "11d8d39a-e28b-49e1-8192-b4f9b4bf2ce7",
   "metadata": {},
   "source": [
    "Q4. What is a generator function in python? Why yield keyword is used? Give an example of a generator function."
   ]
  },
  {
   "cell_type": "markdown",
   "id": "b2861a07-7ec5-47c9-bd69-52766b2f5a83",
   "metadata": {},
   "source": [
    "Solution 4\n",
    "Generator is a function that returns an iterator that produce a sequence of values when iterated over.\n",
    "Yield function is similar to return function the difference is only that yield function returns a generator object instead of simply returning a value."
   ]
  },
  {
   "cell_type": "code",
   "execution_count": 10,
   "id": "86f7e447-f6c2-45c5-a1d9-d71e1ea111f8",
   "metadata": {},
   "outputs": [
    {
     "data": {
      "text/plain": [
       "<generator object add2 at 0x7f06ec6f5c40>"
      ]
     },
     "execution_count": 10,
     "metadata": {},
     "output_type": "execute_result"
    }
   ],
   "source": [
    "#Example of generator function\n",
    "lst = []\n",
    "def add2(*args):\n",
    "    for i in args:\n",
    "        i = i+2\n",
    "        lst.append(i)\n",
    "    yield lst\n",
    "add2(1,2,3,4)"
   ]
  },
  {
   "cell_type": "code",
   "execution_count": 11,
   "id": "320cbdc9-fcfd-41eb-a03a-22c1d1a34237",
   "metadata": {},
   "outputs": [
    {
     "name": "stdout",
     "output_type": "stream",
     "text": [
      "[3, 4, 5, 6]\n"
     ]
    }
   ],
   "source": [
    "for n in add2(1,2,3,4):\n",
    "    print(n)"
   ]
  },
  {
   "cell_type": "markdown",
   "id": "403a8dce-80ea-4c89-a0d8-31bcbf9c0bfb",
   "metadata": {},
   "source": [
    "Q5. Create a generator function for prime numbers less than 1000. Use the next() method to print the first 20 prime numbers. "
   ]
  },
  {
   "cell_type": "code",
   "execution_count": 25,
   "id": "52e169a6-337b-490b-9b1b-36dacba800eb",
   "metadata": {},
   "outputs": [],
   "source": [
    "def prm():\n",
    "    lst1 = []\n",
    "    for n in range(1,1000):\n",
    "        if n==1:\n",
    "            yield n\n",
    "        elif n==2:\n",
    "            continue\n",
    "        else:\n",
    "            for i in range(2,n):\n",
    "                if n%i==0:\n",
    "                    break\n",
    "            else:\n",
    "                yield n\n",
    "    \n",
    "                \n",
    "         \n",
    "            \n",
    "        "
   ]
  },
  {
   "cell_type": "code",
   "execution_count": 26,
   "id": "93be659c-296b-45b7-a973-f3f3ded44862",
   "metadata": {},
   "outputs": [],
   "source": [
    "prime = prm()"
   ]
  },
  {
   "cell_type": "code",
   "execution_count": 30,
   "id": "82f93827-aa3d-48c9-a46e-58475e575a95",
   "metadata": {},
   "outputs": [
    {
     "data": {
      "text/plain": [
       "7"
      ]
     },
     "execution_count": 30,
     "metadata": {},
     "output_type": "execute_result"
    }
   ],
   "source": [
    "next(prime)"
   ]
  },
  {
   "cell_type": "code",
   "execution_count": null,
   "id": "670a4ff1-5bcc-4ade-852c-ca2f6ad68f8f",
   "metadata": {},
   "outputs": [],
   "source": []
  },
  {
   "cell_type": "markdown",
   "id": "fc2e33de-7860-442b-9f40-4c0d1d6665ca",
   "metadata": {},
   "source": [
    "Q6. Write a python program to print the first 10 Fibonacci numbers using a while loop"
   ]
  },
  {
   "cell_type": "code",
   "execution_count": 14,
   "id": "d4180176-ab38-4c19-9bbe-9732bd8ba6a9",
   "metadata": {},
   "outputs": [
    {
     "name": "stdout",
     "output_type": "stream",
     "text": [
      "0\n",
      "1\n",
      "1\n",
      "2\n",
      "3\n",
      "5\n",
      "8\n",
      "13\n",
      "21\n",
      "34\n"
     ]
    }
   ],
   "source": [
    "a = 0\n",
    "b = 1\n",
    "n = 1\n",
    "fib = 0\n",
    "while n <= 10:\n",
    "    print(a)\n",
    "    fib = a + b\n",
    "    a = b\n",
    "    b = fib\n",
    "    n = n+1"
   ]
  },
  {
   "cell_type": "markdown",
   "id": "2487f50f-af6e-41d9-aa63-2e5405f02ece",
   "metadata": {},
   "source": [
    " Q7. Write a List Comprehension to iterate through the given string: ‘pwskills’.\n",
    "    Expected output: ['p', 'w', 's', 'k', 'i', 'l', 'l', 's'] "
   ]
  },
  {
   "cell_type": "code",
   "execution_count": 15,
   "id": "6c7ab332-9668-4527-8920-bb3b845e074a",
   "metadata": {},
   "outputs": [
    {
     "data": {
      "text/plain": [
       "['p', 'w', 's', 'k', 'i', 'l', 'l', 's']"
      ]
     },
     "execution_count": 15,
     "metadata": {},
     "output_type": "execute_result"
    }
   ],
   "source": [
    "#Solution 7\n",
    "[i for i in list(\"pwskills\")]"
   ]
  },
  {
   "cell_type": "code",
   "execution_count": null,
   "id": "d43255ae-a736-4553-832c-2c2efd30542c",
   "metadata": {},
   "outputs": [],
   "source": []
  },
  {
   "cell_type": "code",
   "execution_count": null,
   "id": "2e097c96-a2e3-4485-bb07-a03f73b04232",
   "metadata": {},
   "outputs": [],
   "source": [
    "number = int(input(\"enter your number\"))\n",
    "while number >= 0:\n",
    "    if number == int(str(number)[::-1]):\n",
    "        print(\"Given number is Palindrome\")\n",
    "    else:\n",
    "        print(\"Given number is not Palindrome\")\n",
    "    break"
   ]
  },
  {
   "cell_type": "markdown",
   "id": "cd14bd9b-fd02-4ef9-931b-59d069614fd1",
   "metadata": {},
   "source": [
    "Q9. Write a code to print odd numbers from 1 to 100 using list comprehension. Note: Use a list comprehension to create a list from 1 to 100 and use another List comprehension to filter out odd numbers."
   ]
  },
  {
   "cell_type": "code",
   "execution_count": 16,
   "id": "24405ea9-ebdc-490b-a598-5f6632f0b69d",
   "metadata": {},
   "outputs": [
    {
     "data": {
      "text/plain": [
       "[1,\n",
       " 3,\n",
       " 5,\n",
       " 7,\n",
       " 9,\n",
       " 11,\n",
       " 13,\n",
       " 15,\n",
       " 17,\n",
       " 19,\n",
       " 21,\n",
       " 23,\n",
       " 25,\n",
       " 27,\n",
       " 29,\n",
       " 31,\n",
       " 33,\n",
       " 35,\n",
       " 37,\n",
       " 39,\n",
       " 41,\n",
       " 43,\n",
       " 45,\n",
       " 47,\n",
       " 49,\n",
       " 51,\n",
       " 53,\n",
       " 55,\n",
       " 57,\n",
       " 59,\n",
       " 61,\n",
       " 63,\n",
       " 65,\n",
       " 67,\n",
       " 69,\n",
       " 71,\n",
       " 73,\n",
       " 75,\n",
       " 77,\n",
       " 79,\n",
       " 81,\n",
       " 83,\n",
       " 85,\n",
       " 87,\n",
       " 89,\n",
       " 91,\n",
       " 93,\n",
       " 95,\n",
       " 97,\n",
       " 99]"
      ]
     },
     "execution_count": 16,
     "metadata": {},
     "output_type": "execute_result"
    }
   ],
   "source": [
    "#solution 9\n",
    "list1 = [n for n in range(1,101)]\n",
    "list2 = [i for i in list1 if i % 2 != 0]\n",
    "list2\n"
   ]
  },
  {
   "cell_type": "code",
   "execution_count": 17,
   "id": "1b3c55d4-135e-4976-ac10-a2bf6b034fd5",
   "metadata": {},
   "outputs": [
    {
     "name": "stdin",
     "output_type": "stream",
     "text": [
      "enter your number 121\n"
     ]
    },
    {
     "name": "stdout",
     "output_type": "stream",
     "text": [
      "Given number is Palindrome\n"
     ]
    }
   ],
   "source": [
    "number = int(input(\"enter your number\"))\n",
    "while number >= 0:\n",
    "    if number == int(str(number)[::-1]):\n",
    "        print(\"Given number is Palindrome\")\n",
    "    else:\n",
    "        print(\"Given number is not Palindrome\")\n",
    "    break"
   ]
  },
  {
   "cell_type": "code",
   "execution_count": null,
   "id": "b96888bb-e3ec-49f8-baf2-7467c4b92dd5",
   "metadata": {},
   "outputs": [],
   "source": []
  }
 ],
 "metadata": {
  "kernelspec": {
   "display_name": "Python 3 (ipykernel)",
   "language": "python",
   "name": "python3"
  },
  "language_info": {
   "codemirror_mode": {
    "name": "ipython",
    "version": 3
   },
   "file_extension": ".py",
   "mimetype": "text/x-python",
   "name": "python",
   "nbconvert_exporter": "python",
   "pygments_lexer": "ipython3",
   "version": "3.10.8"
  }
 },
 "nbformat": 4,
 "nbformat_minor": 5
}
